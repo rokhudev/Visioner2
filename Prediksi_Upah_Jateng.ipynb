{
  "cells": [
    {
      "cell_type": "code",
      "execution_count": 24,
      "metadata": {
        "id": "LfFoPqXUlua6"
      },
      "outputs": [],
      "source": [
        "import pandas as pd\n",
        "import sklearn.linear_model as lm\n",
        "import numpy as np\n",
        "import matplotlib.pyplot as plt\n",
        "from sklearn.metrics import r2_score, mean_absolute_error, mean_squared_error"
      ]
    },
    {
      "cell_type": "code",
      "execution_count": 25,
      "metadata": {
        "colab": {
          "base_uri": "https://localhost:8080/"
        },
        "id": "RIE4anRsmEAW",
        "outputId": "909898a6-74f8-4c9c-e66a-ea4ca8f3e373"
      },
      "outputs": [
        {
          "output_type": "stream",
          "name": "stdout",
          "text": [
            "         daerah  tahun      ump\n",
            "0   JAWA TENGAH   1997   113000\n",
            "1   JAWA TENGAH   1998   130000\n",
            "2   JAWA TENGAH   1999   153000\n",
            "3   JAWA TENGAH   2000   185000\n",
            "4   JAWA TENGAH   2001   245000\n",
            "5   JAWA TENGAH   2002   314500\n",
            "6   JAWA TENGAH   2003   340400\n",
            "7   JAWA TENGAH   2004   365000\n",
            "8   JAWA TENGAH   2005   390000\n",
            "9   JAWA TENGAH   2006   450000\n",
            "10  JAWA TENGAH   2007   500000\n",
            "11  JAWA TENGAH   2008   547000\n",
            "12  JAWA TENGAH   2009   575000\n",
            "13  JAWA TENGAH   2010   660000\n",
            "14  JAWA TENGAH   2011   675000\n",
            "15  JAWA TENGAH   2012   765000\n",
            "16  JAWA TENGAH   2013   830000\n",
            "17  JAWA TENGAH   2014   910000\n",
            "18  JAWA TENGAH   2015   910000\n",
            "19  JAWA TENGAH   2016   910000\n",
            "20  JAWA TENGAH   2017  1367000\n",
            "21  JAWA TENGAH   2018  1486065\n",
            "22  JAWA TENGAH   2019  1605396\n",
            "23  JAWA TENGAH   2020  1742015\n",
            "24  JAWA TENGAH   2021  1798979\n",
            "25  JAWA TENGAH   2022  1813011\n"
          ]
        }
      ],
      "source": [
        "# Membaca Data\n",
        "df = pd.read_csv('ump_jateng.csv')\n",
        "print(df)"
      ]
    },
    {
      "cell_type": "code",
      "execution_count": 26,
      "metadata": {
        "colab": {
          "base_uri": "https://localhost:8080/",
          "height": 75
        },
        "id": "ItsY7bNjqE7x",
        "outputId": "4097835c-135f-44de-ded3-35d0aee1c574"
      },
      "outputs": [
        {
          "output_type": "execute_result",
          "data": {
            "text/plain": [
              "LinearRegression()"
            ],
            "text/html": [
              "<style>#sk-container-id-3 {color: black;background-color: white;}#sk-container-id-3 pre{padding: 0;}#sk-container-id-3 div.sk-toggleable {background-color: white;}#sk-container-id-3 label.sk-toggleable__label {cursor: pointer;display: block;width: 100%;margin-bottom: 0;padding: 0.3em;box-sizing: border-box;text-align: center;}#sk-container-id-3 label.sk-toggleable__label-arrow:before {content: \"▸\";float: left;margin-right: 0.25em;color: #696969;}#sk-container-id-3 label.sk-toggleable__label-arrow:hover:before {color: black;}#sk-container-id-3 div.sk-estimator:hover label.sk-toggleable__label-arrow:before {color: black;}#sk-container-id-3 div.sk-toggleable__content {max-height: 0;max-width: 0;overflow: hidden;text-align: left;background-color: #f0f8ff;}#sk-container-id-3 div.sk-toggleable__content pre {margin: 0.2em;color: black;border-radius: 0.25em;background-color: #f0f8ff;}#sk-container-id-3 input.sk-toggleable__control:checked~div.sk-toggleable__content {max-height: 200px;max-width: 100%;overflow: auto;}#sk-container-id-3 input.sk-toggleable__control:checked~label.sk-toggleable__label-arrow:before {content: \"▾\";}#sk-container-id-3 div.sk-estimator input.sk-toggleable__control:checked~label.sk-toggleable__label {background-color: #d4ebff;}#sk-container-id-3 div.sk-label input.sk-toggleable__control:checked~label.sk-toggleable__label {background-color: #d4ebff;}#sk-container-id-3 input.sk-hidden--visually {border: 0;clip: rect(1px 1px 1px 1px);clip: rect(1px, 1px, 1px, 1px);height: 1px;margin: -1px;overflow: hidden;padding: 0;position: absolute;width: 1px;}#sk-container-id-3 div.sk-estimator {font-family: monospace;background-color: #f0f8ff;border: 1px dotted black;border-radius: 0.25em;box-sizing: border-box;margin-bottom: 0.5em;}#sk-container-id-3 div.sk-estimator:hover {background-color: #d4ebff;}#sk-container-id-3 div.sk-parallel-item::after {content: \"\";width: 100%;border-bottom: 1px solid gray;flex-grow: 1;}#sk-container-id-3 div.sk-label:hover label.sk-toggleable__label {background-color: #d4ebff;}#sk-container-id-3 div.sk-serial::before {content: \"\";position: absolute;border-left: 1px solid gray;box-sizing: border-box;top: 0;bottom: 0;left: 50%;z-index: 0;}#sk-container-id-3 div.sk-serial {display: flex;flex-direction: column;align-items: center;background-color: white;padding-right: 0.2em;padding-left: 0.2em;position: relative;}#sk-container-id-3 div.sk-item {position: relative;z-index: 1;}#sk-container-id-3 div.sk-parallel {display: flex;align-items: stretch;justify-content: center;background-color: white;position: relative;}#sk-container-id-3 div.sk-item::before, #sk-container-id-3 div.sk-parallel-item::before {content: \"\";position: absolute;border-left: 1px solid gray;box-sizing: border-box;top: 0;bottom: 0;left: 50%;z-index: -1;}#sk-container-id-3 div.sk-parallel-item {display: flex;flex-direction: column;z-index: 1;position: relative;background-color: white;}#sk-container-id-3 div.sk-parallel-item:first-child::after {align-self: flex-end;width: 50%;}#sk-container-id-3 div.sk-parallel-item:last-child::after {align-self: flex-start;width: 50%;}#sk-container-id-3 div.sk-parallel-item:only-child::after {width: 0;}#sk-container-id-3 div.sk-dashed-wrapped {border: 1px dashed gray;margin: 0 0.4em 0.5em 0.4em;box-sizing: border-box;padding-bottom: 0.4em;background-color: white;}#sk-container-id-3 div.sk-label label {font-family: monospace;font-weight: bold;display: inline-block;line-height: 1.2em;}#sk-container-id-3 div.sk-label-container {text-align: center;}#sk-container-id-3 div.sk-container {/* jupyter's `normalize.less` sets `[hidden] { display: none; }` but bootstrap.min.css set `[hidden] { display: none !important; }` so we also need the `!important` here to be able to override the default hidden behavior on the sphinx rendered scikit-learn.org. See: https://github.com/scikit-learn/scikit-learn/issues/21755 */display: inline-block !important;position: relative;}#sk-container-id-3 div.sk-text-repr-fallback {display: none;}</style><div id=\"sk-container-id-3\" class=\"sk-top-container\"><div class=\"sk-text-repr-fallback\"><pre>LinearRegression()</pre><b>In a Jupyter environment, please rerun this cell to show the HTML representation or trust the notebook. <br />On GitHub, the HTML representation is unable to render, please try loading this page with nbviewer.org.</b></div><div class=\"sk-container\" hidden><div class=\"sk-item\"><div class=\"sk-estimator sk-toggleable\"><input class=\"sk-toggleable__control sk-hidden--visually\" id=\"sk-estimator-id-3\" type=\"checkbox\" checked><label for=\"sk-estimator-id-3\" class=\"sk-toggleable__label sk-toggleable__label-arrow\">LinearRegression</label><div class=\"sk-toggleable__content\"><pre>LinearRegression()</pre></div></div></div></div></div>"
            ]
          },
          "metadata": {},
          "execution_count": 26
        }
      ],
      "source": [
        "# memanggil Fungsi\n",
        "lr = lm.LinearRegression()\n",
        "\n",
        "x = df.tahun.values.reshape(-1,1)\n",
        "y = df.ump.values.reshape(-1,1)\n",
        "\n",
        "lr.fit(x,y)"
      ]
    },
    {
      "cell_type": "code",
      "execution_count": 27,
      "metadata": {
        "colab": {
          "base_uri": "https://localhost:8080/"
        },
        "id": "jXdfLLEgqa83",
        "outputId": "96fbdce4-40b4-4451-c54c-f15859ea6b3b"
      },
      "outputs": [
        {
          "output_type": "stream",
          "name": "stdout",
          "text": [
            "[INFO]\n",
            "Intercept :  [-1.37096437e+08]\n",
            "Coefisien :  [[68602.74735043]]\n",
            "\n",
            "[PERSAMAAN]\n",
            "jadi persaman yg terbentuk adalah : Y =  [-1.37096437e+08]  +  [[68602.74735043]] X\n",
            "\n",
            "[PREDIKSI]\n",
            "prediksi untuk UMP(X) = 2025  maka nilai UMP(Y) =  [[1824125.89162394]]\n",
            "\n",
            "[MANUAL]\n"
          ]
        }
      ],
      "source": [
        "# Output\n",
        "print(\"[INFO]\")\n",
        "print('Intercept : ', lr.intercept_)\n",
        "print('Coefisien : ', lr.coef_)\n",
        "print(\"\\n[PERSAMAAN]\")\n",
        "print('jadi persaman yg terbentuk adalah : Y = ', lr.intercept_ , ' + ', lr.coef_, 'X')\n",
        "print(\"\\n[PREDIKSI]\")\n",
        "print('prediksi untuk UMP(X) = 2025  maka nilai UMP(Y) = ', lr.predict([[2025]]))\n",
        "\n",
        "print(\"\\n[MANUAL]\")"
      ]
    },
    {
      "cell_type": "code",
      "execution_count": 28,
      "metadata": {
        "id": "wiyASeaHq0CD"
      },
      "outputs": [],
      "source": [
        "# Evaluasi predict\n",
        "df['prediksi_ump'] = lr.predict(x)"
      ]
    },
    {
      "cell_type": "code",
      "execution_count": 29,
      "metadata": {
        "colab": {
          "base_uri": "https://localhost:8080/"
        },
        "id": "nrEpSkooq5TG",
        "outputId": "ac4d6dc5-03d7-4497-e161-d362b5165799"
      },
      "outputs": [
        {
          "output_type": "stream",
          "name": "stdout",
          "text": [
            "SSR= 6883017780638.862\n",
            "SST= 7543172226983.539\n",
            "perhitungan scr manual R-square =  0.9124831799566815\n"
          ]
        }
      ],
      "source": [
        "# Evaluasi Manual\n",
        "df['SST']= np.square(df['ump'] - df['ump'].mean())\n",
        "df['SSR']= np.square(df['prediksi_ump'] - df['ump'].mean())\n",
        "print('SSR=', df['SSR'].sum())\n",
        "print('SST=', df['SST'].sum())\n",
        "print('perhitungan scr manual R-square = ', df['SSR'].sum() / df['SST'].sum())"
      ]
    },
    {
      "cell_type": "code",
      "execution_count": 30,
      "metadata": {
        "colab": {
          "base_uri": "https://localhost:8080/"
        },
        "id": "O8XF282xrgVr",
        "outputId": "c321f262-bf4c-44ea-f5c6-40c4858c3d7f"
      },
      "outputs": [
        {
          "output_type": "stream",
          "name": "stdout",
          "text": [
            "R-Squared dengan fungsi :  0.9124831799566769\n",
            "Mean Absolute Error :  142238.52752136954\n",
            "Root Mean Squared Error :  159344.14212214618\n"
          ]
        }
      ],
      "source": [
        "# Evaluasi Built in Function\n",
        "print('R-Squared dengan fungsi : ', r2_score(df.ump, df.prediksi_ump))\n",
        "print('Mean Absolute Error : ', mean_absolute_error(df.ump, df.prediksi_ump))\n",
        "print('Root Mean Squared Error : ', np.sqrt(mean_squared_error(df.ump, df.prediksi_ump)))"
      ]
    },
    {
      "cell_type": "code",
      "execution_count": 31,
      "metadata": {
        "colab": {
          "base_uri": "https://localhost:8080/",
          "height": 472
        },
        "id": "AyuDNNk1r6_0",
        "outputId": "5ae1af64-cbae-492f-b74c-0ed34df3da2e"
      },
      "outputs": [
        {
          "output_type": "display_data",
          "data": {
            "text/plain": [
              "<Figure size 640x480 with 1 Axes>"
            ],
            "image/png": "[encoded data removed]"
          },
          "metadata": {}
        }
      ],
      "source": [
        "# Grafik\n",
        "plt.scatter(x, y, color = 'black')\n",
        "plt.plot(x, lr.predict(x), color = 'blue', linewidth = 1)\n",
        "plt.title('Tahun vs UMP')\n",
        "plt.ylabel('UMP')\n",
        "plt.xlabel('tahun')\n",
        "plt.show()"
      ]
    },
    {
      "cell_type": "code",
      "execution_count": 32,
      "metadata": {
        "id": "wi12yE-HB8AX"
      },
      "outputs": [],
      "source": [
        "import pickle\n",
        "pickle.dump(lr,open('model.pkl','wb'))"
      ]
    }
  ],
  "metadata": {
    "accelerator": "GPU",
    "colab": {
      "provenance": []
    },
    "kernelspec": {
      "display_name": "Python 3",
      "name": "python3"
    },
    "language_info": {
      "name": "python",
      "version": "3.10.11"
    }
  },
  "nbformat": 4,
  "nbformat_minor": 0
}